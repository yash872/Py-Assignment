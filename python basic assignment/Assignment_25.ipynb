{
 "cells": [
  {
   "cell_type": "markdown",
   "metadata": {},
   "source": [
    "# 1.   What is the difference between enclosing a list comprehension in square brackets and parentheses?"
   ]
  },
  {
   "cell_type": "markdown",
   "metadata": {},
   "source": [
    "**Ans.**"
   ]
  },
  {
   "cell_type": "markdown",
   "metadata": {},
   "source": [
    "The list comprehension in square brackets will generate a `list` of results in memory at a time. When they are enclosed in parentheses, they are actually `generator expressions` - they have similar meanings, but they do not produce a list of results at the same time. Instead, the generator expression returns a generator object that, when used in an iteration context, generates an item one at a time in the result."
   ]
  },
  {
   "cell_type": "markdown",
   "metadata": {},
   "source": [
    "#  2.    What is the relationship between generators and iterators?\n"
   ]
  },
  {
   "cell_type": "markdown",
   "metadata": {},
   "source": [
    "**Ans.**"
   ]
  },
  {
   "cell_type": "markdown",
   "metadata": {},
   "source": [
    "The generator is an `iterable object` that automatically supports the iteration protocol. They are iterators with the __next__ method, which pushes forward the next item in a series of results and throws an exception `[StopIteration]` at the end of a series of results. In Python, we can write generator functions using def and yield, use parenthesized derivation to generate generator expressions, and generate generator objects using classes that define special methods named `__iter__` "
   ]
  },
  {
   "cell_type": "markdown",
   "metadata": {},
   "source": [
    "# 3. What are the signs that a function is a generator function?"
   ]
  },
  {
   "cell_type": "markdown",
   "metadata": {},
   "source": [
    "**Ans.**"
   ]
  },
  {
   "cell_type": "markdown",
   "metadata": {},
   "source": [
    "The generator function has a `yield statement` somewhere in its code. Generator functions are syntactically identical to ordinary functions, but they are specifically compiled by Python to return an iterable generator object when called. This object preserves the state and code location between values."
   ]
  },
  {
   "cell_type": "markdown",
   "metadata": {},
   "source": [
    "# 4. What is the purpose of a yield statement?\n"
   ]
  },
  {
   "cell_type": "markdown",
   "metadata": {},
   "source": [
    "**Ans.**"
   ]
  },
  {
   "cell_type": "markdown",
   "metadata": {},
   "source": [
    "When a yield statement is present, the statement causes the Python-specific compiled function to act as a generator; when the function is called, the function returns a generator object that supports the iterative protocol. When you run the yield statement, it sends the result back to the caller and suspends the state of the function; then, the function can be restored after the last yield statement in response to the next built-in function next by the caller or The call to the __next__ method. In more advanced roles, the generator's send method similarly restores the generator, but can also pass a value to represent the value of the yield expression (commonly speaking, the yield statement will have a value when it is run, which can be assigned to a Variables). The generator function can also have a return statement that terminates the generator."
   ]
  },
  {
   "cell_type": "code",
   "execution_count": 11,
   "metadata": {},
   "outputs": [],
   "source": [
    "def gen():\n",
    "    for i in range(10):\n",
    "        X = yield i\n",
    "        print(X)"
   ]
  },
  {
   "cell_type": "code",
   "execution_count": 12,
   "metadata": {},
   "outputs": [],
   "source": [
    "obj = gen()"
   ]
  },
  {
   "cell_type": "code",
   "execution_count": 13,
   "metadata": {},
   "outputs": [
    {
     "data": {
      "text/plain": [
       "0"
      ]
     },
     "execution_count": 13,
     "metadata": {},
     "output_type": "execute_result"
    }
   ],
   "source": [
    "next(obj)"
   ]
  },
  {
   "cell_type": "code",
   "execution_count": 14,
   "metadata": {},
   "outputs": [
    {
     "name": "stdout",
     "output_type": "stream",
     "text": [
      "8\n"
     ]
    },
    {
     "data": {
      "text/plain": [
       "1"
      ]
     },
     "execution_count": 14,
     "metadata": {},
     "output_type": "execute_result"
    }
   ],
   "source": [
    "obj.send(8) #Continue to generate values ​​forward and give values ​​to yield expressions"
   ]
  },
  {
   "cell_type": "markdown",
   "metadata": {},
   "source": [
    "# 5. What is the relationship between map calls and list comprehensions? Make a comparison and contrast between the two.\n"
   ]
  },
  {
   "cell_type": "markdown",
   "metadata": {},
   "source": [
    "**Ans.**"
   ]
  },
  {
   "cell_type": "markdown",
   "metadata": {},
   "source": [
    "The `map call` is similar to the `list comprehension` - both produce a series of values, by collecting the results of the application operation on each item or other iterable object in a sequence, once Produce one. The main difference is that map applies a `function call` to each item, and list comprehension applies an `arbitrary expression`. For this reason, list comprehensions are more general; it can apply a function call expression like map , but map requires a function to apply other types of expressions. List comprehensions also support extended syntax, such as nested for loops and if clauses, which implement functions like the built-in function filter. In Python 3.X, the map is also different, it produces a generator of values; list comprehensions implement a list of results in memory at once. In 2.X, both tools create a list of results."
   ]
  }
 ],
 "metadata": {
  "kernelspec": {
   "display_name": "Python 3",
   "language": "python",
   "name": "python3"
  },
  "language_info": {
   "codemirror_mode": {
    "name": "ipython",
    "version": 3
   },
   "file_extension": ".py",
   "mimetype": "text/x-python",
   "name": "python",
   "nbconvert_exporter": "python",
   "pygments_lexer": "ipython3",
   "version": "3.8.5"
  }
 },
 "nbformat": 4,
 "nbformat_minor": 4
}
