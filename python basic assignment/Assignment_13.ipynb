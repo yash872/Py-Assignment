{
 "cells": [
  {
   "cell_type": "markdown",
   "metadata": {},
   "source": [
    "# 1. What advantages do Excel spreadsheets have over CSV spreadsheets?"
   ]
  },
  {
   "cell_type": "markdown",
   "metadata": {},
   "source": [
    "**Ans.**\n",
    "\n",
    "CSV is just comma separated value format in which we can stores data in a text format, but in the excel spreadsheets we have a lot of functionalities which are not there in CSV.\n",
    "\n",
    "* We can have multiple data types, apart from string. \n",
    "* We can have different fonts, sizes, or color settings for the cells.\n",
    "* We can arrange the cells in a much better presentation by modifying widths-heights and merging the adjacent cells,\n",
    "* We can aslo embed images and charts for better understanding and analysis of data."
   ]
  },
  {
   "cell_type": "markdown",
   "metadata": {},
   "source": [
    "#  2. What do you pass to csv.reader() and csv.writer() to create reader and writer objects?"
   ]
  },
  {
   "cell_type": "markdown",
   "metadata": {},
   "source": [
    "**Ans.**\n",
    "\n",
    "When we call the function `open()`, we will get an **File object**. that object we will pass in csv.reader() and csv.writer()"
   ]
  },
  {
   "cell_type": "markdown",
   "metadata": {},
   "source": [
    "# 3. What modes do File objects for reader and writer objects need to be opened in?"
   ]
  },
  {
   "cell_type": "markdown",
   "metadata": {},
   "source": [
    "**Ans.**\n",
    "\n",
    "For the Reader Objectes the mode is **read-binary** `('rb')` and for the Writer object the mode is **write-binary** `('wb')`"
   ]
  },
  {
   "cell_type": "markdown",
   "metadata": {},
   "source": [
    "# 4.  What method takes a list argument and writes it to a CSV file?"
   ]
  },
  {
   "cell_type": "markdown",
   "metadata": {},
   "source": [
    "**Ans.**\n",
    "\n",
    "`writerow()` is the method in which we pass a list to write a CSV."
   ]
  },
  {
   "cell_type": "markdown",
   "metadata": {},
   "source": [
    "# 5.  What do the keyword arguments delimiter and line terminator do?"
   ]
  },
  {
   "cell_type": "markdown",
   "metadata": {},
   "source": [
    "**Ans.**\n",
    "\n",
    "* delimiter --> It is use to changes the string used to separate cells in a row.\n",
    "* lineterminator --> It is used to changes the string used to separate rows.\n"
   ]
  },
  {
   "cell_type": "markdown",
   "metadata": {},
   "source": [
    "# 6.   What function takes a string of JSON data and returns a Python data structure?"
   ]
  },
  {
   "cell_type": "markdown",
   "metadata": {},
   "source": [
    "**Ans.**\n",
    "\n",
    "`json.loads()` is the function used to convert JSON string into a Python Dictionary"
   ]
  },
  {
   "cell_type": "markdown",
   "metadata": {},
   "source": [
    "# 7.  What function takes a Python data structure and returns a string of JSON data?"
   ]
  },
  {
   "cell_type": "markdown",
   "metadata": {},
   "source": [
    "**Ans.**\n",
    "\n",
    "`json.dumps()`  is the function used to convert python dictionary to JSON string"
   ]
  }
 ],
 "metadata": {
  "kernelspec": {
   "display_name": "Python 3",
   "language": "python",
   "name": "python3"
  },
  "language_info": {
   "codemirror_mode": {
    "name": "ipython",
    "version": 3
   },
   "file_extension": ".py",
   "mimetype": "text/x-python",
   "name": "python",
   "nbconvert_exporter": "python",
   "pygments_lexer": "ipython3",
   "version": "3.8.5"
  }
 },
 "nbformat": 4,
 "nbformat_minor": 4
}
