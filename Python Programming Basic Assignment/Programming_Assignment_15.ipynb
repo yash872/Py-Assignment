{
 "cells": [
  {
   "cell_type": "markdown",
   "metadata": {},
   "source": [
    "# 1. Please write a program using generator to print the numbers which can be divisible by 5 and 7 between 0 and n in comma separated form while n is input by console.\n",
    "Example:\n",
    "\n",
    "If the following n is given as input to the program:\n",
    "\n",
    "100\n",
    "\n",
    "Then, the output of the program should be:\n",
    "\n",
    "0,35,70"
   ]
  },
  {
   "cell_type": "code",
   "execution_count": 3,
   "metadata": {},
   "outputs": [
    {
     "name": "stdout",
     "output_type": "stream",
     "text": [
      "Enter the number --> 100\n",
      "0 35 70\n"
     ]
    }
   ],
   "source": [
    "def my_generator(n):\n",
    "    for i in range(n+1):\n",
    "        if i%5==0 and i%7==0:\n",
    "            yield i\n",
    "\n",
    "n=int(input('Enter the number --> '))\n",
    "values = []\n",
    "for i in my_generator(n):\n",
    "    values.append(str(i))\n",
    "\n",
    "print(*values)"
   ]
  },
  {
   "cell_type": "markdown",
   "metadata": {},
   "source": [
    "# 2. Please write a program using generator to print the even numbers between 0 and n in comma separated form while n is input by console.\n",
    "Example:\n",
    "\n",
    "If the following n is given as input to the program:\n",
    "\n",
    "10\n",
    "\n",
    "Then, the output of the program should be:\n",
    "\n",
    "0,2,4,6,8,10\n",
    "\n"
   ]
  },
  {
   "cell_type": "code",
   "execution_count": 8,
   "metadata": {},
   "outputs": [
    {
     "name": "stdout",
     "output_type": "stream",
     "text": [
      "Enter the n --> 10\n",
      "0,2,4,6,8,10\n"
     ]
    }
   ],
   "source": [
    "def Generate_Even(n):\n",
    "    i=0\n",
    "    while i<=n:\n",
    "        if i%2==0:\n",
    "            yield i\n",
    "        i+=1\n",
    "        \n",
    "\n",
    "n = int(input('Enter the n --> '))       \n",
    "num_list = []\n",
    "for i in Generate_Even(n):\n",
    "    num_list.append(str(i))\n",
    "\n",
    "print(\",\".join(num_list))\n"
   ]
  },
  {
   "cell_type": "markdown",
   "metadata": {},
   "source": [
    "# 3. The Fibonacci Sequence is computed based on the following formula:\n",
    "f(n)=0 if n=0\n",
    "\n",
    "f(n)=1 if n=1\n",
    "\n",
    "f(n)=f(n-1)+f(n-2) if n>1\n",
    "\n",
    "Please write a program using list comprehension to print the Fibonacci Sequence in comma separated form with a given n input by console.\n",
    "\n",
    "Example:\n",
    "\n",
    "If the following n is given as input to the program:\n",
    "\n",
    "7\n",
    "\n",
    "Then, the output of the program should be:\n",
    "\n",
    "0,1,1,2,3,5,8,13\n"
   ]
  },
  {
   "cell_type": "code",
   "execution_count": 9,
   "metadata": {},
   "outputs": [
    {
     "name": "stdout",
     "output_type": "stream",
     "text": [
      "Enter the n --> 7\n",
      "0,1,1,2,3,5,8,13\n"
     ]
    }
   ],
   "source": [
    "def fibSeq(n):\n",
    "    if n == 0: return 0\n",
    "    elif n == 1: return 1\n",
    "    else: return fibSeq(n-1)+fibSeq(n-2)\n",
    "\n",
    "n = int(input('Enter the n --> '))  \n",
    "num_list = [str(fibSeq(x)) for x in range(0, n+1)]\n",
    "print(\",\".join(num_list))"
   ]
  },
  {
   "cell_type": "markdown",
   "metadata": {},
   "source": [
    "# 4. Assuming that we have some email addresses in the \"username@companyname.com\" format, please write program to print the user name of a given email address. Both user names and company names are composed of letters only.\n",
    "Example:\n",
    "\n",
    "If the following email address is given as input to the program:\n",
    "\n",
    "john@google.com\n",
    "\n",
    "Then, the output of the program should be:\n",
    "\n",
    "john\n"
   ]
  },
  {
   "cell_type": "code",
   "execution_count": 12,
   "metadata": {},
   "outputs": [
    {
     "name": "stdout",
     "output_type": "stream",
     "text": [
      "Enter the Email Address --> john@google.com\n",
      "john\n"
     ]
    }
   ],
   "source": [
    "import re\n",
    "email_add = input('Enter the Email Address --> ')\n",
    "pattern = \"(\\w+)@((\\w+\\.)+(com))\"\n",
    "result = re.match(pattern,email_add)\n",
    "print(result.group(1))"
   ]
  },
  {
   "cell_type": "markdown",
   "metadata": {},
   "source": [
    "# 5. Define a class named Shape and its subclass Square. The Square class has an init function which takes a length as argument. Both classes have a area function which can print the area of the shape where Shape's area is 0 by default.\n"
   ]
  },
  {
   "cell_type": "code",
   "execution_count": 15,
   "metadata": {},
   "outputs": [
    {
     "name": "stdout",
     "output_type": "stream",
     "text": [
      "64\n"
     ]
    }
   ],
   "source": [
    "class Shape(object):\n",
    "    def __init__(self):\n",
    "        pass\n",
    "\n",
    "    def area(self):\n",
    "        return 0\n",
    "\n",
    "class Square(Shape):\n",
    "    def __init__(self, l):\n",
    "        Shape.__init__(self)\n",
    "        self.length = l\n",
    "\n",
    "    def area(self):\n",
    "        return self.length*self.length\n",
    "\n",
    "Square_Obj= Square(8)\n",
    "print(Square_Obj.area()) "
   ]
  }
 ],
 "metadata": {
  "kernelspec": {
   "display_name": "Python 3",
   "language": "python",
   "name": "python3"
  },
  "language_info": {
   "codemirror_mode": {
    "name": "ipython",
    "version": 3
   },
   "file_extension": ".py",
   "mimetype": "text/x-python",
   "name": "python",
   "nbconvert_exporter": "python",
   "pygments_lexer": "ipython3",
   "version": "3.8.5"
  }
 },
 "nbformat": 4,
 "nbformat_minor": 4
}
