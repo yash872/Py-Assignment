{
 "cells": [
  {
   "cell_type": "markdown",
   "metadata": {},
   "source": [
    "# 1. Write a Python program to check if the given number is a Disarium Number?"
   ]
  },
  {
   "cell_type": "code",
   "execution_count": 12,
   "metadata": {},
   "outputs": [
    {
     "name": "stdout",
     "output_type": "stream",
     "text": [
      "Enter the Number --> 89\n",
      "number 89 is a Disarium Number\n"
     ]
    }
   ],
   "source": [
    "def Disarium(x,n):\n",
    "    Sum=0\n",
    "    while(n>0):\n",
    "        r=n%10\n",
    "        Sum=Sum+(r**x)\n",
    "        x=x-1\n",
    "        n=n//10\n",
    "    return Sum\n",
    "    \n",
    "num = int(input('Enter the Number --> '))\n",
    "l = len(str(num))\n",
    "res = Disarium(l,num)\n",
    "if res == num :\n",
    "    print('number',num,'is a Disarium Number')\n",
    "else :\n",
    "    print('number',num,'is a Disarium Number')\n"
   ]
  },
  {
   "cell_type": "markdown",
   "metadata": {},
   "source": [
    "# 2. Write a Python program to print all disarium numbers between 1 to 100?"
   ]
  },
  {
   "cell_type": "code",
   "execution_count": 14,
   "metadata": {},
   "outputs": [
    {
     "name": "stdout",
     "output_type": "stream",
     "text": [
      "1 2 3 4 5 6 7 8 9 89 "
     ]
    }
   ],
   "source": [
    "def Disarium(x,n):\n",
    "    s=n\n",
    "    Sum=0\n",
    "    while(n>0):\n",
    "        r=n%10\n",
    "        Sum=Sum+(r**x)\n",
    "        x=x-1\n",
    "        n=n//10\n",
    "    if s==Sum:\n",
    "        print(s,end=' ')\n",
    "\n",
    "for i in range(1,101):\n",
    "    l = len(str(i))\n",
    "    Disarium(l,i)"
   ]
  },
  {
   "cell_type": "markdown",
   "metadata": {},
   "source": [
    "# 3. Write a Python program to check if the given number is Happy Number?\n"
   ]
  },
  {
   "cell_type": "code",
   "execution_count": 16,
   "metadata": {},
   "outputs": [
    {
     "name": "stdout",
     "output_type": "stream",
     "text": [
      "Enter the number --> 19\n",
      "19 is a Happy Number !\n"
     ]
    }
   ],
   "source": [
    "def solve(n,visited):\n",
    "    if n == 1:\n",
    "        return True\n",
    "    if n in visited:\n",
    "        return False\n",
    "    visited[n]= 1\n",
    "    n = str(n)\n",
    "    l = list(n)\n",
    "    l = list(map(int,l))\n",
    "    temp = 0\n",
    "    for i in l:\n",
    "        temp += (i**2)\n",
    "    return solve(temp,visited)\n",
    "\n",
    "def isHappy(n):\n",
    "    return solve(n,{})\n",
    "\n",
    "\n",
    "num = int(input('Enter the number --> '))\n",
    "if(isHappy(num)):\n",
    "    print(num,'is a Happy Number !')\n",
    "else:\n",
    "    print(num,'is Not a Happy Number !')"
   ]
  },
  {
   "cell_type": "markdown",
   "metadata": {},
   "source": [
    "# 4. Write a Python program to print all happy numbers between 1 and 100?"
   ]
  },
  {
   "cell_type": "code",
   "execution_count": 18,
   "metadata": {},
   "outputs": [
    {
     "name": "stdout",
     "output_type": "stream",
     "text": [
      "1 7 10 13 19 23 28 31 32 44 49 68 70 79 82 86 91 94 97 100 "
     ]
    }
   ],
   "source": [
    "def solve(n,visited):\n",
    "    if n == 1:\n",
    "        return True\n",
    "    if n in visited:\n",
    "        return False\n",
    "    visited[n]= 1\n",
    "    n = str(n)\n",
    "    l = list(n)\n",
    "    l = list(map(int,l))\n",
    "    temp = 0\n",
    "    for i in l:\n",
    "        temp += (i**2)\n",
    "    return solve(temp,visited)\n",
    "\n",
    "def isHappy(n):\n",
    "    return solve(n,{})\n",
    "\n",
    "for i in range(1,101):\n",
    "    if(isHappy(i)):\n",
    "        print(i,end=' ')"
   ]
  },
  {
   "cell_type": "markdown",
   "metadata": {},
   "source": [
    "# 5. Write a Python program to determine whether the given number is a Harshad Number?"
   ]
  },
  {
   "cell_type": "code",
   "execution_count": 21,
   "metadata": {},
   "outputs": [
    {
     "name": "stdout",
     "output_type": "stream",
     "text": [
      "Enter the number --> 18\n",
      "18 is a Harshad Number !\n"
     ]
    }
   ],
   "source": [
    "def checkHarshad( n ) :\n",
    "    sum = 0\n",
    "    temp = n\n",
    "    while temp > 0 :\n",
    "        sum = sum + temp % 10\n",
    "        temp = temp // 10\n",
    "    return n % sum == 0\n",
    "\n",
    "num = int(input('Enter the number --> '))\n",
    "if(checkHarshad(num)):\n",
    "    print(num,'is a Harshad Number !')\n",
    "else:\n",
    "    print(num,'is Not a Harshad Number !')"
   ]
  },
  {
   "cell_type": "markdown",
   "metadata": {},
   "source": [
    "# 6. Write a Python program to print all pronic numbers between 1 and 100?\n"
   ]
  },
  {
   "cell_type": "code",
   "execution_count": 22,
   "metadata": {},
   "outputs": [
    {
     "name": "stdout",
     "output_type": "stream",
     "text": [
      "2 6 12 20 30 42 56 72 90 "
     ]
    }
   ],
   "source": [
    "import math\n",
    "def isPronic(n) :\n",
    "    x = (int)(math.sqrt(n))\n",
    "    if (x*(x + 1)== n):\n",
    "        return True\n",
    "    else:\n",
    "        return False\n",
    "    \n",
    "for i in range(1,101):\n",
    "    if(isPronic(i)):\n",
    "        print(i,end=' ')"
   ]
  }
 ],
 "metadata": {
  "kernelspec": {
   "display_name": "Python 3",
   "language": "python",
   "name": "python3"
  },
  "language_info": {
   "codemirror_mode": {
    "name": "ipython",
    "version": 3
   },
   "file_extension": ".py",
   "mimetype": "text/x-python",
   "name": "python",
   "nbconvert_exporter": "python",
   "pygments_lexer": "ipython3",
   "version": "3.8.5"
  }
 },
 "nbformat": 4,
 "nbformat_minor": 4
}
