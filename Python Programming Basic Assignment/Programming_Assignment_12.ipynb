{
 "cells": [
  {
   "cell_type": "markdown",
   "metadata": {},
   "source": [
    "# 1. Write a Python program to Extract Unique values dictionary values?"
   ]
  },
  {
   "cell_type": "code",
   "execution_count": 1,
   "metadata": {},
   "outputs": [
    {
     "name": "stdout",
     "output_type": "stream",
     "text": [
      "The original dictionary is : {'iNueron': [6, 12, 10, 8], 'is': [10, 11, 7, 5], 'best': [5, 6, 7, 8], 'for': [1, 2, 5], 'Learning': [6, 2, 8]}\n",
      "The unique values list is : [1, 2, 5, 6, 7, 8, 10, 11, 12]\n"
     ]
    }
   ],
   "source": [
    "input_dict = {'iNueron' : [6, 12, 10, 8],\n",
    "             'is' : [10, 11, 7, 5],\n",
    "             'best' : [5, 6, 7, 8],\n",
    "             'for' : [1, 2, 5],\n",
    "             'Learning' : [6, 2, 8]}\n",
    "  \n",
    "\n",
    "print(\"The original dictionary is : \" + str(input_dict))\n",
    "res = list({ele for val in input_dict.values() for ele in val})\n",
    "print(\"The unique values list is : \" + str(res)) "
   ]
  },
  {
   "cell_type": "markdown",
   "metadata": {},
   "source": [
    "# 2. Write a Python program to find the sum of all items in a dictionary?"
   ]
  },
  {
   "cell_type": "code",
   "execution_count": 4,
   "metadata": {},
   "outputs": [
    {
     "name": "stdout",
     "output_type": "stream",
     "text": [
      "sum --> 31\n"
     ]
    }
   ],
   "source": [
    "input_dict = {'iNueron' : 6,\n",
    "             'is' : 10,\n",
    "             'best' : 5,\n",
    "             'for' : 2,\n",
    "             'Learning' : 8}\n",
    "\n",
    "s=0\n",
    "for i in input_dict.values():\n",
    "    s+=i\n",
    "print('sum -->',s)"
   ]
  },
  {
   "cell_type": "markdown",
   "metadata": {},
   "source": [
    "# 3. Write a Python program to Merging two Dictionaries?"
   ]
  },
  {
   "cell_type": "code",
   "execution_count": 9,
   "metadata": {},
   "outputs": [
    {
     "name": "stdout",
     "output_type": "stream",
     "text": [
      "{'S': 500, 'H': 7, 'Y': 957, 'A': 500}\n"
     ]
    }
   ],
   "source": [
    "def Merge_dict(dict1, dict2):\n",
    "    return(dict2.update(dict1))\n",
    "     \n",
    "dict1 = {'Y': 957, 'A': 500}\n",
    "dict2 = {'S': 500, 'H': 7}\n",
    " \n",
    "\n",
    "Merge_dict(dict1, dict2)\n",
    "print(dict2)"
   ]
  },
  {
   "cell_type": "markdown",
   "metadata": {},
   "source": [
    "# 4. Write a Python program to convert key-values list to flat dictionary?"
   ]
  },
  {
   "cell_type": "code",
   "execution_count": 10,
   "metadata": {},
   "outputs": [
    {
     "name": "stdout",
     "output_type": "stream",
     "text": [
      "{'a': 1, 'd': [1, 2, 3], 'c_a': 2, 'c_b_x': 5, 'c_b_y': 10}\n"
     ]
    }
   ],
   "source": [
    "import pandas as pd\n",
    "\n",
    "d = {'a': 1,\n",
    "     'c': {'a': 2, 'b': {'x': 5, 'y' : 10}},\n",
    "     'd': [1, 2, 3]}\n",
    "\n",
    "df = pd.json_normalize(d, sep='_')\n",
    "\n",
    "print(df.to_dict(orient='records')[0])"
   ]
  },
  {
   "cell_type": "markdown",
   "metadata": {},
   "source": [
    "# 5. Write a Python program to insertion at the beginning in OrderedDict?\n"
   ]
  },
  {
   "cell_type": "code",
   "execution_count": 12,
   "metadata": {},
   "outputs": [
    {
     "name": "stdout",
     "output_type": "stream",
     "text": [
      "Dictionary : OrderedDict([('iNueron', '3'), ('Yash', '1'), ('bhawsar', '2')])\n"
     ]
    }
   ],
   "source": [
    "from collections import OrderedDict\n",
    "\n",
    "my_ordered_dict = OrderedDict([('Yash', '1'), ('bhawsar', '2')])\n",
    "my_ordered_dict.update({'iNueron':'3'})\n",
    "my_ordered_dict.move_to_end('iNueron', last = False)\n",
    "\n",
    "print (\"Dictionary : \"+str(iniordered_dict))"
   ]
  },
  {
   "cell_type": "markdown",
   "metadata": {},
   "source": [
    "# 6. Write a Python program to check order of character in string using OrderedDict()?"
   ]
  },
  {
   "cell_type": "code",
   "execution_count": 18,
   "metadata": {},
   "outputs": [
    {
     "name": "stdout",
     "output_type": "stream",
     "text": [
      "Enter the Text --> ILOVEPYTHON\n",
      "Enter the pattern --> ION\n",
      "YES! Pattern exist in Text\n"
     ]
    }
   ],
   "source": [
    "from collections import OrderedDict \n",
    "  \n",
    "def check_char_Order(input, pattern):\n",
    "    ptrlen=0\n",
    "    dict = OrderedDict.fromkeys(input) \n",
    "    for key,value in dict.items(): \n",
    "        if (key == pattern[ptrlen]): \n",
    "            ptrlen = ptrlen + 1\n",
    "        if (ptrlen == (len(pattern))): \n",
    "            return 'true'\n",
    "    return 'false'\n",
    "\n",
    "\n",
    "text = input('Enter the Text --> ')\n",
    "pattern = input('Enter the pattern --> ')\n",
    "if(check_char_Order(text,pattern)):\n",
    "    print('YES! Pattern exist in Text')\n",
    "else:\n",
    "    print(\"NO! Pattern doen't exist in Text\")"
   ]
  },
  {
   "cell_type": "markdown",
   "metadata": {},
   "source": [
    "# 7. Write a Python program to sort Python Dictionaries by Key or Value?"
   ]
  },
  {
   "cell_type": "code",
   "execution_count": 19,
   "metadata": {},
   "outputs": [
    {
     "name": "stdout",
     "output_type": "stream",
     "text": [
      "Dictionary sorted by Keys --> \n",
      "1 2 3 4 5 6 7 9 \n",
      "Dictionary sorted by values --> \n",
      "A B C D E F G H "
     ]
    }
   ],
   "source": [
    "def sort_dict():      \n",
    "    my_dict ={\n",
    "        2:'C',\n",
    "        4:'A',\n",
    "        9:'F',\n",
    "        7:'B',\n",
    "        6:'H',\n",
    "        1:'D',\n",
    "        3:'G',\n",
    "        5:'E',\n",
    "    }\n",
    "    \n",
    "    print('Dictionary sorted by Keys --> ')\n",
    "    for i in sorted (my_dict.keys()) : \n",
    "     print(i, end = \" \")\n",
    "    \n",
    "    print()\n",
    "    print('Dictionary sorted by values --> ')\n",
    "    for i in sorted (my_dict.values()) : \n",
    "     print(i, end = \" \")\n",
    "\n",
    "\n",
    "sort_dict()"
   ]
  }
 ],
 "metadata": {
  "kernelspec": {
   "display_name": "Python 3",
   "language": "python",
   "name": "python3"
  },
  "language_info": {
   "codemirror_mode": {
    "name": "ipython",
    "version": 3
   },
   "file_extension": ".py",
   "mimetype": "text/x-python",
   "name": "python",
   "nbconvert_exporter": "python",
   "pygments_lexer": "ipython3",
   "version": "3.8.5"
  }
 },
 "nbformat": 4,
 "nbformat_minor": 4
}
