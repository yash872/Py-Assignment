{
 "cells": [
  {
   "cell_type": "markdown",
   "metadata": {},
   "source": [
    "# 1. Write a Python program to find words which are greater than given length k?"
   ]
  },
  {
   "cell_type": "code",
   "execution_count": 1,
   "metadata": {},
   "outputs": [
    {
     "name": "stdout",
     "output_type": "stream",
     "text": [
      "Enter the Text --> Hi I am Yash Bhawsar and I love Python \n",
      "Enter the length k --> 3\n",
      "['Yash', 'Bhawsar', 'love', 'Python']\n"
     ]
    }
   ],
   "source": [
    "def len_k(k, str):\n",
    "    string = []\n",
    "    text = str.split(\" \")\n",
    "    for x in text:\n",
    "        if len(x) > k:\n",
    "            string.append(x)\n",
    "    return string\n",
    "\n",
    "text = input('Enter the Text --> ') \n",
    "k = int(input('Enter the length k --> '))\n",
    "print(len_k(k, text)) "
   ]
  },
  {
   "cell_type": "markdown",
   "metadata": {},
   "source": [
    "# 2. Write a Python program for removing i-th character from a string?"
   ]
  },
  {
   "cell_type": "code",
   "execution_count": 2,
   "metadata": {},
   "outputs": [
    {
     "name": "stdout",
     "output_type": "stream",
     "text": [
      "Enter the Text --> iNueron\n",
      "Enter the length i --> 3\n",
      "iNuron\n"
     ]
    }
   ],
   "source": [
    "def remove_ith_char(string, i): \n",
    "  \n",
    "    for j in range(len(string)):\n",
    "        if j == i:\n",
    "            string = string.replace(string[i], \"\", 1)\n",
    "    return string\n",
    "\n",
    "text = input('Enter the Text --> ') \n",
    "i = int(input('Enter the length i --> '))\n",
    "print(remove_ith_char(text,k)) "
   ]
  },
  {
   "cell_type": "markdown",
   "metadata": {},
   "source": [
    "# 3. Write a Python program to split and join a string?"
   ]
  },
  {
   "cell_type": "code",
   "execution_count": 8,
   "metadata": {},
   "outputs": [
    {
     "name": "stdout",
     "output_type": "stream",
     "text": [
      "Enter the Text --> Hi I am Yash and I Love Python\n",
      "splited string -- >  ['Hi', 'I', 'am', 'Yash', 'and', 'I', 'Love', 'Python']\n",
      "Joined String -->  Hi-I-am-Yash-and-I-Love-Python\n"
     ]
    }
   ],
   "source": [
    "def split_str(string):\n",
    "    list_str = string.split(' ')\n",
    "    return list_str\n",
    "  \n",
    "def join_str(list_string):\n",
    "    join_str = '-'.join(list_string)\n",
    "    return join_str\n",
    "\n",
    "text = input('Enter the Text --> ') \n",
    "list_str = split_str(text)\n",
    "print('splited string -- > ',list_str)\n",
    "new_str = join_str(list_str)\n",
    "print('Joined String --> ',new_str)"
   ]
  },
  {
   "cell_type": "markdown",
   "metadata": {},
   "source": [
    "# 4. Write a Python to check if a given string is binary string or not?"
   ]
  },
  {
   "cell_type": "code",
   "execution_count": 9,
   "metadata": {},
   "outputs": [
    {
     "name": "stdout",
     "output_type": "stream",
     "text": [
      "Enter the Text --> 1010101010\n",
      "Yes! it is Binary String\n"
     ]
    }
   ],
   "source": [
    "def check_binary(string) :\n",
    "    str_set = set(string)\n",
    "    if {'0', '1'} == str_set or str_set == {'0'} or str_set == {'1'}:\n",
    "        print(\"Yes! it is Binary String\")\n",
    "    else :\n",
    "        print(\"No! It is not a Binary string\")\n",
    "        \n",
    "text = input('Enter the Text --> ')\n",
    "check_binary(text)"
   ]
  },
  {
   "cell_type": "markdown",
   "metadata": {},
   "source": [
    "# 5. Write a Python program to find uncommon words from two Strings?"
   ]
  },
  {
   "cell_type": "code",
   "execution_count": 11,
   "metadata": {},
   "outputs": [
    {
     "name": "stdout",
     "output_type": "stream",
     "text": [
      "Enter the Text1 --> I Love Python\n",
      "Enter the Text2 --> I Love Programming\n",
      "['Programming', 'Python']\n"
     ]
    }
   ],
   "source": [
    "def uncommon(a,b):\n",
    "  a=a.split()\n",
    "  b=b.split()\n",
    "  k=set(a).symmetric_difference(set(b))\n",
    "  return k\n",
    "\n",
    "text1 = input('Enter the Text1 --> ')\n",
    "text2 = input('Enter the Text2 --> ')\n",
    "print(list(uncommon(text1,text2)))"
   ]
  },
  {
   "cell_type": "markdown",
   "metadata": {},
   "source": [
    "# 6. Write a Python to find all duplicate characters in string?\n"
   ]
  },
  {
   "cell_type": "code",
   "execution_count": 16,
   "metadata": {},
   "outputs": [
    {
     "name": "stdout",
     "output_type": "stream",
     "text": [
      "Enter the Text --> PythonProgramming\n",
      "P o n r g m "
     ]
    }
   ],
   "source": [
    "def duplicate_char(string):\n",
    "    duplicates = {}\n",
    "    for char in string:\n",
    "        if char in duplicates:\n",
    "            duplicates[char] += 1\n",
    "        else:\n",
    "            duplicates[char] = 1\n",
    "    for key in duplicates.keys():\n",
    "        if  duplicates[key] > 1:\n",
    "            print(key, end = \" \")\n",
    "\n",
    "text = input('Enter the Text --> ')\n",
    "duplicate_char(text)"
   ]
  },
  {
   "cell_type": "markdown",
   "metadata": {},
   "source": [
    "# 7. Write a Python Program to check if a string contains any special character?"
   ]
  },
  {
   "cell_type": "code",
   "execution_count": 18,
   "metadata": {},
   "outputs": [
    {
     "name": "stdout",
     "output_type": "stream",
     "text": [
      "Enter the Text --> I L@vE P#Th@n\n",
      "string contains special character\n"
     ]
    }
   ],
   "source": [
    "import re\n",
    "def check_special_char(string):\n",
    "    regex = re.compile('[@_!#$%^&*()<>?/\\|}{~:]')    \n",
    "    if(regex.search(string) == None):\n",
    "        print(\"string doesn't contains any special character\")   \n",
    "    else:\n",
    "        print(\"string contains special character\")\n",
    "\n",
    "text = input('Enter the Text --> ')\n",
    "check_special_char(text)"
   ]
  }
 ],
 "metadata": {
  "kernelspec": {
   "display_name": "Python 3",
   "language": "python",
   "name": "python3"
  },
  "language_info": {
   "codemirror_mode": {
    "name": "ipython",
    "version": 3
   },
   "file_extension": ".py",
   "mimetype": "text/x-python",
   "name": "python",
   "nbconvert_exporter": "python",
   "pygments_lexer": "ipython3",
   "version": "3.8.5"
  }
 },
 "nbformat": 4,
 "nbformat_minor": 4
}
