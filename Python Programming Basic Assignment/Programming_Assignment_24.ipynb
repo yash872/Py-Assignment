{
 "cells": [
  {
   "cell_type": "markdown",
   "metadata": {},
   "source": [
    "# 1. Create a function that takes an integer and returns a list from 1 to the given number, where:\n",
    "\n",
    "1. If the number can be divided evenly by 4, amplify it by 10 (i.e. return 10 times the number).\n",
    "2. If the number cannot be divided evenly by 4, simply return the number.\n",
    "\n",
    "\n",
    "\n",
    "# Examples\n",
    "\n",
    "\n",
    "amplify(4) ➞ [1, 2, 3, 40]\n",
    "\n",
    "amplify(3) ➞ [1, 2, 3]\n",
    "\n",
    "amplify(25) ➞ [1, 2, 3, 40, 5, 6, 7, 80, 9, 10, 11, 120, 13, 14, 15, 160, 17, 18, 19, 200, 21, 22, 23, 240, 25]\n",
    "\n",
    "# Notes\n",
    "* The given integer will always be equal to or greater than 1.\n",
    "* Include the number (see example above).\n",
    "* To perform this problem with its intended purpose, try doing it with list comprehensions. If that's too difficult, just solve the challenge any way you can.\n",
    "\n"
   ]
  },
  {
   "cell_type": "code",
   "execution_count": 1,
   "metadata": {},
   "outputs": [
    {
     "name": "stdout",
     "output_type": "stream",
     "text": [
      "[1, 2, 3, 40]\n",
      "[1, 2, 3]\n",
      "[1, 2, 3, 40, 5, 6, 7, 80, 9, 10, 11, 120, 13, 14, 15, 160, 17, 18, 19, 200, 21, 22, 23, 240, 25]\n"
     ]
    }
   ],
   "source": [
    "def amplify(number):\n",
    "    return [i*10 if i%4==0 else i for i in range(1,number+1)]\n",
    "\n",
    "print(amplify(4))\n",
    "print(amplify(3))\n",
    "print(amplify(25))\n",
    "\n"
   ]
  },
  {
   "cell_type": "markdown",
   "metadata": {},
   "source": [
    "# 2.Create a function that takes a list of numbers and return the number that's unique.\n",
    "\n",
    "\n",
    "\n",
    "\n",
    "# Examples\n",
    "\n",
    "unique([3, 3, 3, 7, 3, 3]) ➞ 7\n",
    "\n",
    "unique([0, 0, 0.77, 0, 0]) ➞ 0.77\n",
    "\n",
    "unique([0, 1, 1, 1, 1, 1, 1, 1]) ➞ 0\n",
    "\n",
    "# Notes\n",
    " * Test cases will always have exactly one unique number while all others are the same.\n",
    "\n"
   ]
  },
  {
   "cell_type": "code",
   "execution_count": 13,
   "metadata": {},
   "outputs": [
    {
     "name": "stdout",
     "output_type": "stream",
     "text": [
      "7\n",
      "0.77\n",
      "0\n"
     ]
    }
   ],
   "source": [
    "def unique(my_lst):\n",
    "    return min(set(my_lst), key=my_lst.count)\n",
    "\n",
    "print(unique([3, 3, 3, 7, 3, 3]))\n",
    "print(unique([0, 0, 0.77, 0, 0]) )\n",
    "print(unique([0, 1, 1, 1, 1, 1, 1, 1]) )"
   ]
  },
  {
   "cell_type": "markdown",
   "metadata": {},
   "source": [
    "# 3. Your task is to create a Circle constructor that creates a circle with a radius provided by an argument. The circles constructed must have two getters getArea() (PIr^2) and getPerimeter() (2PI*r) which give both respective areas and perimeter (circumference).\n",
    "\n",
    "For help with this class, I have provided you with a Rectangle constructor which you can use as a base example.\n",
    "\n",
    "\n",
    "\n",
    "# Examples\n",
    "\n",
    "circy = Circle(11)\n",
    "circy.getArea()\n",
    "\n",
    "#Should return 380.132711084365\n",
    "\n",
    "circy = Circle(4.44)\n",
    "circy.getPerimeter()\n",
    "\n",
    "#Should return 27.897342763877365\n",
    "\n"
   ]
  },
  {
   "cell_type": "code",
   "execution_count": 17,
   "metadata": {},
   "outputs": [
    {
     "name": "stdout",
     "output_type": "stream",
     "text": [
      "380.132711084365\n",
      "27.897342763877365\n"
     ]
    }
   ],
   "source": [
    "from math import pi\n",
    "class Circle(object):\n",
    "  def __init__(self, radius):\n",
    "    self.radius = radius\n",
    "  def getArea(self):\n",
    "    return (pi * self.radius**2)\n",
    "  def getPerimeter(self):\n",
    "    return (2 * pi * self.radius)\n",
    "\n",
    "circy = Circle(11)\n",
    "print(circy.getArea())\n",
    "circy = Circle(4.44) \n",
    "print(circy.getPerimeter())"
   ]
  },
  {
   "cell_type": "markdown",
   "metadata": {},
   "source": [
    "# 4. Create a function that takes a list of strings and return a list, sorted from shortest to longest.\n",
    "\n",
    "\n",
    "\n",
    "\n",
    "# Examples\n",
    "\n",
    "sort_by_length([\"Google\", \"Apple\", \"Microsoft\"])\n",
    "➞ [\"Apple\", \"Google\", \"Microsoft\"]\n",
    "\n",
    "sort_by_length([\"Leonardo\", \"Michelangelo\", \"Raphael\", \"Donatello\"])\n",
    "➞ [\"Raphael\", \"Leonardo\", \"Donatello\", \"Michelangelo\"]\n",
    "\n",
    "sort_by_length([\"Turing\", \"Einstein\", \"Jung\"])\n",
    "➞ [\"Jung\", \"Turing\", \"Einstein\"]\n",
    "\n",
    "\n",
    "# Notes\n",
    "* All test cases contain lists with strings of different lengths, so you won't have to deal with multiple strings of the same length."
   ]
  },
  {
   "cell_type": "code",
   "execution_count": 19,
   "metadata": {},
   "outputs": [
    {
     "name": "stdout",
     "output_type": "stream",
     "text": [
      "['Apple', 'Google', 'Microsoft']\n",
      "['Raphael', 'Leonardo', 'Donatello', 'Michelangelo']\n",
      "['Jung', 'Turing', 'Einstein']\n"
     ]
    }
   ],
   "source": [
    "def sort_by_length(my_lst):\n",
    "    return sorted(my_lst,key=len)\n",
    "\n",
    "print(sort_by_length([\"Google\", \"Apple\", \"Microsoft\"]))\n",
    "print(sort_by_length([\"Leonardo\", \"Michelangelo\", \"Raphael\", \"Donatello\"]))\n",
    "print(sort_by_length([\"Turing\", \"Einstein\", \"Jung\"]))"
   ]
  },
  {
   "cell_type": "markdown",
   "metadata": {},
   "source": [
    "# 5. Create a function that validates whether three given integers form a Pythagorean triplet. The sum of the squares of the two smallest integers must equal the square of the largest number to be validated.\n",
    "\n",
    "\n",
    "\n",
    "\n",
    "\n",
    "# Examples\n",
    "\n",
    "is_triplet(3, 4, 5) ➞ True\n",
    "3² + 4² = 25\n",
    "5² = 25\n",
    "\n",
    "is_triplet(13, 5, 12) ➞ True\n",
    "5² + 12² = 169\n",
    "13² = 169\n",
    "\n",
    "is_triplet(1, 2, 3) ➞ False\n",
    "1² + 2² = 5\n",
    "3² = 9\n",
    "\n",
    "\n",
    "# Notes\n",
    "\n",
    "* Numbers may not be given in a sorted order.\n"
   ]
  },
  {
   "cell_type": "code",
   "execution_count": 23,
   "metadata": {},
   "outputs": [
    {
     "name": "stdout",
     "output_type": "stream",
     "text": [
      "True\n",
      "True\n",
      "False\n"
     ]
    }
   ],
   "source": [
    "def is_triplet(n1, n2, n3):\n",
    "    a, b, h = sorted((n1, n2, n3))\n",
    "    return a**2 + b**2 == h**2\n",
    "\n",
    "print(is_triplet(3, 4, 5))\n",
    "print(is_triplet(13, 5, 12))\n",
    "print(is_triplet(1, 2, 3))"
   ]
  }
 ],
 "metadata": {
  "kernelspec": {
   "display_name": "Python 3",
   "language": "python",
   "name": "python3"
  },
  "language_info": {
   "codemirror_mode": {
    "name": "ipython",
    "version": 3
   },
   "file_extension": ".py",
   "mimetype": "text/x-python",
   "name": "python",
   "nbconvert_exporter": "python",
   "pygments_lexer": "ipython3",
   "version": "3.8.5"
  }
 },
 "nbformat": 4,
 "nbformat_minor": 4
}
