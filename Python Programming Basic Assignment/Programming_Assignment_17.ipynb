{
 "cells": [
  {
   "cell_type": "markdown",
   "metadata": {},
   "source": [
    "# 1. Create a function that takes three arguments a, b, c and returns the sum of the numbers that are evenly divided by c from the range a, b inclusive.\n",
    "\n",
    "# Examples\n",
    "\n",
    "evenly_divisible(1, 10, 20) ➞ 0\n",
    "No number between 1 and 10 can be evenly divided by 20.\n",
    "\n",
    "evenly_divisible(1, 10, 2) ➞ 30\n",
    "2 + 4 + 6 + 8 + 10 = 30\n",
    "\n",
    "evenly_divisible(1, 10, 3) ➞ 18\n",
    "3 + 6 + 9 = 18\n",
    "\n",
    "\n"
   ]
  },
  {
   "cell_type": "code",
   "execution_count": 2,
   "metadata": {},
   "outputs": [
    {
     "name": "stdout",
     "output_type": "stream",
     "text": [
      "0\n",
      "30\n",
      "18\n"
     ]
    }
   ],
   "source": [
    "def evenly_divisible(a, b, c):\n",
    "    s=0\n",
    "    for i in range(a,b+1):\n",
    "        if(i%c==0):\n",
    "            s+=i\n",
    "    return s\n",
    "        \n",
    "\n",
    "print(evenly_divisible(1, 10, 20))\n",
    "\n",
    "print(evenly_divisible(1, 10, 2))\n",
    "\n",
    "print(evenly_divisible(1, 10, 3))\n"
   ]
  },
  {
   "cell_type": "markdown",
   "metadata": {},
   "source": [
    "# 2. Create a function that returns True if a given inequality expression is correct and False otherwise.\n",
    "\n",
    "# Examples\n",
    "\n",
    "correct_signs(\"3 < 7 < 11\") ➞ True\n",
    "\n",
    "correct_signs(\"13 > 44 > 33 > 1\") ➞ False\n",
    "\n",
    "correct_signs(\"1 < 2 < 6 < 9 > 3\") ➞ True\n"
   ]
  },
  {
   "cell_type": "code",
   "execution_count": 5,
   "metadata": {},
   "outputs": [
    {
     "name": "stdout",
     "output_type": "stream",
     "text": [
      "True\n",
      "False\n",
      "True\n"
     ]
    }
   ],
   "source": [
    "def correct_signs(exp):\n",
    "    if(eval(exp)):\n",
    "        print(\"True\")\n",
    "    else:\n",
    "        print(\"False\")\n",
    "    \n",
    "        \n",
    "\n",
    "correct_signs(\"3 < 7 < 11\")\n",
    "\n",
    "correct_signs(\"13 > 44 > 33 > 1\")\n",
    "\n",
    "correct_signs(\"1 < 2 < 6 < 9 > 3\")"
   ]
  },
  {
   "cell_type": "markdown",
   "metadata": {},
   "source": [
    "# 3. Create a function that replaces all the vowels in a string with a specified character.\n",
    "\n",
    "# Examples\n",
    "\n",
    "replace_vowels(\"the aardvark\", \"#\") ➞ \"th# ##rdv#rk\"\n",
    "\n",
    "replace_vowels(\"minnie mouse\", \"?\") ➞ \"m?nn?? m??s?\"\n",
    "\n",
    "replace_vowels(\"shakespeare\", \"*\") ➞ \"sh*k*sp**r*\"\n"
   ]
  },
  {
   "cell_type": "code",
   "execution_count": 8,
   "metadata": {},
   "outputs": [
    {
     "name": "stdout",
     "output_type": "stream",
     "text": [
      "th# ##rdv#rk\n",
      "\n",
      "m?nn?? m??s?\n",
      "\n",
      "sh*k*sp**r*\n"
     ]
    }
   ],
   "source": [
    "def replace_vowels(s, K):\n",
    "    vowels = 'AEIOUaeiou'\n",
    "    for ele in vowels:\n",
    "        s = s.replace(ele, K)\n",
    "  \n",
    "    return s\n",
    "\n",
    "print(replace_vowels(\"the aardvark\", \"#\"))\n",
    "print()\n",
    "print(replace_vowels(\"minnie mouse\", \"?\"))\n",
    "print()\n",
    "print(replace_vowels(\"shakespeare\", \"*\"))"
   ]
  },
  {
   "cell_type": "markdown",
   "metadata": {},
   "source": [
    "# 4. Write a function that calculates the factorial of a number recursively.\n",
    "\n",
    "# Examples\n",
    "\n",
    "factorial(5) ➞ 120\n",
    "\n",
    "factorial(3) ➞ 6\n",
    "\n",
    "factorial(1) ➞ 1\n",
    "\n",
    "factorial(0) ➞ 1"
   ]
  },
  {
   "cell_type": "code",
   "execution_count": 13,
   "metadata": {},
   "outputs": [
    {
     "name": "stdout",
     "output_type": "stream",
     "text": [
      "120\n",
      "6\n",
      "1\n",
      "1\n"
     ]
    }
   ],
   "source": [
    "def factorial(num):\n",
    "    if(num<=1):\n",
    "        return 1\n",
    "    else:\n",
    "        return num*factorial(num-1)\n",
    "\n",
    "print(factorial(5))\n",
    "print(factorial(3))\n",
    "print(factorial(1))\n",
    "print(factorial(0))\n"
   ]
  },
  {
   "cell_type": "markdown",
   "metadata": {},
   "source": [
    "# 5. Hamming distance is the number of characters that differ between two strings.\n",
    "\n",
    "# To illustrate:\n",
    "String1: \"abcbba\"\n",
    "\n",
    "String2: \"abcbda\"\n",
    "\n",
    "Hamming Distance: 1 - \"b\" vs. \"d\" is the only difference.\n",
    "\n",
    "Create a function that computes the hamming distance between two strings.\n",
    "\n",
    "\n",
    "# Examples\n",
    "hamming_distance(\"abcde\", \"bcdef\") ➞ 5\n",
    "\n",
    "hamming_distance(\"abcde\", \"abcde\") ➞ 0\n",
    "\n",
    "hamming_distance(\"strong\", \"strung\") ➞ 1\n"
   ]
  },
  {
   "cell_type": "code",
   "execution_count": 17,
   "metadata": {},
   "outputs": [
    {
     "name": "stdout",
     "output_type": "stream",
     "text": [
      "5\n",
      "0\n",
      "1\n"
     ]
    }
   ],
   "source": [
    "def hamming_distance(s1, s2):\n",
    "    i = 0\n",
    "    count = 0\n",
    " \n",
    "    while(i < len(s1)):\n",
    "        if(s1[i] != s2[i]):\n",
    "            count += 1\n",
    "        i += 1\n",
    "    return count\n",
    "\n",
    "print(hamming_distance(\"abcde\", \"bcdef\"))\n",
    "\n",
    "print(hamming_distance(\"abcde\", \"abcde\"))\n",
    "\n",
    "print(hamming_distance(\"strong\", \"strung\"))"
   ]
  }
 ],
 "metadata": {
  "kernelspec": {
   "display_name": "Python 3",
   "language": "python",
   "name": "python3"
  },
  "language_info": {
   "codemirror_mode": {
    "name": "ipython",
    "version": 3
   },
   "file_extension": ".py",
   "mimetype": "text/x-python",
   "name": "python",
   "nbconvert_exporter": "python",
   "pygments_lexer": "ipython3",
   "version": "3.8.5"
  }
 },
 "nbformat": 4,
 "nbformat_minor": 4
}
