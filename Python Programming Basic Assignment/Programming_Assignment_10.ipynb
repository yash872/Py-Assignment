{
 "cells": [
  {
   "cell_type": "markdown",
   "metadata": {},
   "source": [
    "# 1. Write a Python program to find sum of elements in list?"
   ]
  },
  {
   "cell_type": "code",
   "execution_count": 1,
   "metadata": {},
   "outputs": [
    {
     "name": "stdout",
     "output_type": "stream",
     "text": [
      "Enter the array numbers : 1 2 3 4 5 6 7 8 9\n",
      "45\n"
     ]
    }
   ],
   "source": [
    "arr = [int(item) for item in input(\"Enter the array numbers : \").split()]\n",
    "print(sum(arr))"
   ]
  },
  {
   "cell_type": "markdown",
   "metadata": {},
   "source": [
    "# 2. Write a Python program to  Multiply all numbers in the list?"
   ]
  },
  {
   "cell_type": "code",
   "execution_count": 2,
   "metadata": {},
   "outputs": [
    {
     "name": "stdout",
     "output_type": "stream",
     "text": [
      "Enter the array numbers : 1 2 3 4 5 6 7 8 9\n",
      "362880\n"
     ]
    }
   ],
   "source": [
    "arr = [int(item) for item in input(\"Enter the array numbers : \").split()]\n",
    "ans=1\n",
    "for i in range(len(arr)):\n",
    "    ans*=arr[i]\n",
    "print(ans)"
   ]
  },
  {
   "cell_type": "markdown",
   "metadata": {},
   "source": [
    "# 3. Write a Python program to find smallest number in a list?\n"
   ]
  },
  {
   "cell_type": "code",
   "execution_count": 3,
   "metadata": {},
   "outputs": [
    {
     "name": "stdout",
     "output_type": "stream",
     "text": [
      "Enter the array numbers : 9 6 3 2 5 8 7 4 1\n",
      "1\n"
     ]
    }
   ],
   "source": [
    "arr = [int(item) for item in input(\"Enter the array numbers : \").split()]\n",
    "print(min(arr))"
   ]
  },
  {
   "cell_type": "markdown",
   "metadata": {},
   "source": [
    "# 4. Write a Python program to find largest number in a list?"
   ]
  },
  {
   "cell_type": "code",
   "execution_count": 4,
   "metadata": {},
   "outputs": [
    {
     "name": "stdout",
     "output_type": "stream",
     "text": [
      "Enter the array numbers : 5 8 2 4 6 9 7 3 1\n",
      "9\n"
     ]
    }
   ],
   "source": [
    "arr = [int(item) for item in input(\"Enter the array numbers : \").split()]\n",
    "print(max(arr))"
   ]
  },
  {
   "cell_type": "markdown",
   "metadata": {},
   "source": [
    "# 5. Write a Python program to find second largest number in a list?"
   ]
  },
  {
   "cell_type": "code",
   "execution_count": 5,
   "metadata": {},
   "outputs": [
    {
     "name": "stdout",
     "output_type": "stream",
     "text": [
      "Enter the array numbers : 3 2 1 6 5 4 7 8 9\n",
      "8\n"
     ]
    }
   ],
   "source": [
    "list1 = [int(item) for item in input(\"Enter the array numbers : \").split()]\n",
    "new_list = set(list1)\n",
    "new_list.remove(max(new_list))\n",
    "print(max(new_list))"
   ]
  },
  {
   "cell_type": "markdown",
   "metadata": {},
   "source": [
    "# 6. Write a Python program to find N largest elements from a list?\n"
   ]
  },
  {
   "cell_type": "code",
   "execution_count": 7,
   "metadata": {},
   "outputs": [
    {
     "name": "stdout",
     "output_type": "stream",
     "text": [
      "Enter the array numbers : 5 7 9 1 3 6 4 8 2\n",
      "enter the value of n --> 3\n",
      "9 8 7 "
     ]
    }
   ],
   "source": [
    "def n_Largest(arr, n):\n",
    "    arr.sort(reverse = True)\n",
    "    for i in range(n):\n",
    "        print (arr[i], end =\" \")\n",
    "\n",
    "\n",
    "arr = [int(item) for item in input(\"Enter the array numbers : \").split()]\n",
    "n = int(input('enter the value of n --> '))\n",
    "n_Largest(arr, n)"
   ]
  },
  {
   "cell_type": "markdown",
   "metadata": {},
   "source": [
    "# 7. Write a Python program to print even numbers in a list?\n"
   ]
  },
  {
   "cell_type": "code",
   "execution_count": 8,
   "metadata": {},
   "outputs": [
    {
     "name": "stdout",
     "output_type": "stream",
     "text": [
      "Enter the array numbers : 9 8 7 6 5 4 3 2 1\n",
      "8 6 4 2 "
     ]
    }
   ],
   "source": [
    "list1 = [int(item) for item in input(\"Enter the array numbers : \").split()]\n",
    "for num in list1:\n",
    "    if num % 2 == 0:\n",
    "       print(num, end = \" \")"
   ]
  },
  {
   "cell_type": "markdown",
   "metadata": {},
   "source": [
    "# 8. Write a Python program to print odd numbers in a List?"
   ]
  },
  {
   "cell_type": "code",
   "execution_count": 9,
   "metadata": {},
   "outputs": [
    {
     "name": "stdout",
     "output_type": "stream",
     "text": [
      "Enter the array numbers : 7 8 5 4 9 6 1 2 3\n",
      "7 5 9 1 3 "
     ]
    }
   ],
   "source": [
    "list1 = [int(item) for item in input(\"Enter the array numbers : \").split()]\n",
    "for num in list1:\n",
    "    if num % 2 != 0:\n",
    "       print(num, end = \" \")"
   ]
  },
  {
   "cell_type": "markdown",
   "metadata": {},
   "source": [
    "# 9. Write a Python program to Remove empty List from List?"
   ]
  },
  {
   "cell_type": "code",
   "execution_count": 10,
   "metadata": {},
   "outputs": [
    {
     "name": "stdout",
     "output_type": "stream",
     "text": [
      "The original list is : [2, [], 2, 5, 3, [], [], 8]\n",
      "List after empty list removal : [2, 2, 5, 3, 8]\n"
     ]
    }
   ],
   "source": [
    "list1 = [2, [], 2, 5, 3, [], [], 8]\n",
    "\n",
    "print(\"The original list is : \" + str(list1))\n",
    "\n",
    "filter_list = list(filter(None, list1))\n",
    "\n",
    "print (\"List after empty list removal : \" + str(filter_list))"
   ]
  },
  {
   "cell_type": "markdown",
   "metadata": {},
   "source": [
    "# 10. Write a Python program to Cloning or Copying a list?"
   ]
  },
  {
   "cell_type": "code",
   "execution_count": 11,
   "metadata": {},
   "outputs": [
    {
     "name": "stdout",
     "output_type": "stream",
     "text": [
      "Enter the array numbers : 1 2 5 4 7 8 9 6 3\n",
      "Original List: [1, 2, 5, 4, 7, 8, 9, 6, 3]\n",
      "After Cloning: [1, 2, 5, 4, 7, 8, 9, 6, 3]\n"
     ]
    }
   ],
   "source": [
    "def Cloning(list1):\n",
    "    list1_copy = list1[:]\n",
    "    return list1_copy\n",
    "  \n",
    "\n",
    "list1 = [int(item) for item in input(\"Enter the array numbers : \").split()]\n",
    "list2 = Cloning(list1)\n",
    "print(\"Original List:\", list1)\n",
    "print(\"After Cloning:\", list2)\n",
    "\n",
    "# we can use copy.copy() for shallow copy also"
   ]
  },
  {
   "cell_type": "markdown",
   "metadata": {},
   "source": [
    "# 11. Write a Python program to Count occurrences of an element in a list?"
   ]
  },
  {
   "cell_type": "code",
   "execution_count": 12,
   "metadata": {},
   "outputs": [
    {
     "name": "stdout",
     "output_type": "stream",
     "text": [
      "Enter the array numbers : 1 5 2 4 2 5 6 2 8 2 9 2 7 2 3 2\n",
      "enter the value of elemet --> 2\n",
      "2 has occurred 7 times\n"
     ]
    }
   ],
   "source": [
    "list1 = [int(item) for item in input(\"Enter the array numbers : \").split()]\n",
    "x = int(input('enter the value of elemet --> '))\n",
    "print('{} has occurred {} times'.format(x, list1.count(x)))"
   ]
  }
 ],
 "metadata": {
  "kernelspec": {
   "display_name": "Python 3",
   "language": "python",
   "name": "python3"
  },
  "language_info": {
   "codemirror_mode": {
    "name": "ipython",
    "version": 3
   },
   "file_extension": ".py",
   "mimetype": "text/x-python",
   "name": "python",
   "nbconvert_exporter": "python",
   "pygments_lexer": "ipython3",
   "version": "3.8.5"
  }
 },
 "nbformat": 4,
 "nbformat_minor": 4
}
