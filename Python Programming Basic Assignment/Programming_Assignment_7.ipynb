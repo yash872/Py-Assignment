{
 "cells": [
  {
   "cell_type": "markdown",
   "metadata": {},
   "source": [
    "# 1. Write a Python Program to find sum of array?"
   ]
  },
  {
   "cell_type": "code",
   "execution_count": 4,
   "metadata": {},
   "outputs": [
    {
     "name": "stdout",
     "output_type": "stream",
     "text": [
      "Enter the array numbers : 1 5 4 7 9 6 5\n",
      "sum by array_sum:  37\n",
      "sum by sum():  37\n"
     ]
    }
   ],
   "source": [
    "def array_sum(arr):\n",
    "    if(len(arr)<=0):\n",
    "        return 0\n",
    "    else:\n",
    "        s=0\n",
    "        for i in range(len(arr)):\n",
    "            s+=arr[i]\n",
    "        return s\n",
    "            \n",
    "\n",
    "arr = [int(item) for item in input(\"Enter the array numbers : \").split()]\n",
    "print('sum by array_sum: ',array_sum(arr))\n",
    "\n",
    "# we can use sum() also \n",
    "\n",
    "print('sum by sum(): ',sum(arr))"
   ]
  },
  {
   "cell_type": "markdown",
   "metadata": {},
   "source": [
    "# 2. Write a Python Program to find largest element in an array?"
   ]
  },
  {
   "cell_type": "code",
   "execution_count": 5,
   "metadata": {},
   "outputs": [
    {
     "name": "stdout",
     "output_type": "stream",
     "text": [
      "Enter the array numbers : 5 4 3 9 8 2 4 7\n",
      "largest by custom_max:  9\n",
      "largest by max():  9\n"
     ]
    }
   ],
   "source": [
    "def custom_max(arr):\n",
    "    if(len(arr)<=0):\n",
    "        return 0\n",
    "    else:\n",
    "        largest=arr[0]\n",
    "        for i in range(1,len(arr)):\n",
    "            if arr[i]>largest:\n",
    "                largest=arr[i]\n",
    "        return largest\n",
    "\n",
    "arr = [int(item) for item in input(\"Enter the array numbers : \").split()]\n",
    "\n",
    "print('largest by custom_max: ',custom_max(arr))\n",
    "\n",
    "\n",
    "# we can also use max()\n",
    "\n",
    "print('largest by max(): ',max(arr))\n",
    "\n"
   ]
  },
  {
   "cell_type": "markdown",
   "metadata": {},
   "source": [
    "# 3. Write a Python Program for array rotation?"
   ]
  },
  {
   "cell_type": "code",
   "execution_count": 6,
   "metadata": {},
   "outputs": [
    {
     "name": "stdout",
     "output_type": "stream",
     "text": [
      "Enter the array numbers : 1 2 3 4 5 6 7 8 9\n",
      "Rotated Array :  [9, 8, 7, 6, 5, 4, 3, 2, 1]\n"
     ]
    }
   ],
   "source": [
    "arr = [int(item) for item in input(\"Enter the array numbers : \").split()]\n",
    "print('Rotated Array : ',arr[::-1])"
   ]
  },
  {
   "cell_type": "markdown",
   "metadata": {},
   "source": [
    "# 4. Write a Python Program to Split the array and add the first part to the end?"
   ]
  },
  {
   "cell_type": "code",
   "execution_count": 9,
   "metadata": {},
   "outputs": [
    {
     "name": "stdout",
     "output_type": "stream",
     "text": [
      "Enter the array numbers : 1 2 3 4 5 6\n",
      "Enter the split k value --> 3\n",
      "Splited By K :  [4, 5, 6, 1, 2, 3]\n"
     ]
    }
   ],
   "source": [
    "def split(arr,k):\n",
    "    if k>len(arr):\n",
    "        print('Enter the K smaller than array length...')\n",
    "        return 0\n",
    "    else:\n",
    "        arr = arr[k:]+arr[:k]\n",
    "        print('Splited By K : ',arr)\n",
    "        \n",
    "\n",
    "\n",
    "arr = [int(item) for item in input(\"Enter the array numbers : \").split()]\n",
    "k = int(input('Enter the split k value --> '))\n",
    "split(arr,k)"
   ]
  },
  {
   "cell_type": "markdown",
   "metadata": {},
   "source": [
    "# 5. Write a Python Program to check if given array is Monotonic?"
   ]
  },
  {
   "cell_type": "code",
   "execution_count": 12,
   "metadata": {},
   "outputs": [
    {
     "name": "stdout",
     "output_type": "stream",
     "text": [
      "Enter the array numbers : 1 3 4 6 7 9\n",
      "given array is Monotonic !\n"
     ]
    }
   ],
   "source": [
    "def isMonotonic(A):\n",
    "    if (all(A[i] <= A[i + 1] for i in range(len(A) - 1)) or\n",
    "            all(A[i] >= A[i + 1] for i in range(len(A) - 1))):\n",
    "        print('given array is Monotonic !')\n",
    "    else:\n",
    "        print('given array is Not Monotonic !')\n",
    "  \n",
    "\n",
    "arr = [int(item) for item in input(\"Enter the array numbers : \").split()]\n",
    "isMonotonic(arr)"
   ]
  }
 ],
 "metadata": {
  "kernelspec": {
   "display_name": "Python 3",
   "language": "python",
   "name": "python3"
  },
  "language_info": {
   "codemirror_mode": {
    "name": "ipython",
    "version": 3
   },
   "file_extension": ".py",
   "mimetype": "text/x-python",
   "name": "python",
   "nbconvert_exporter": "python",
   "pygments_lexer": "ipython3",
   "version": "3.8.5"
  }
 },
 "nbformat": 4,
 "nbformat_minor": 4
}
